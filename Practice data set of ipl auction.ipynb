{
 "cells": [
  {
   "cell_type": "code",
   "execution_count": 1,
   "id": "0e7a3e42",
   "metadata": {},
   "outputs": [],
   "source": [
    "import pandas as pd"
   ]
  },
  {
   "cell_type": "code",
   "execution_count": 2,
   "id": "5db7a2e7",
   "metadata": {},
   "outputs": [],
   "source": [
    "ipl=pd.read_csv(\"ipl_2023_dataset.csv\",usecols=[\"Player Name\", \"Type\", \"Price Cr\", \"Team\"])"
   ]
  },
  {
   "cell_type": "code",
   "execution_count": 3,
   "id": "a4925f0e",
   "metadata": {},
   "outputs": [
    {
     "data": {
      "text/html": [
       "<div>\n",
       "<style scoped>\n",
       "    .dataframe tbody tr th:only-of-type {\n",
       "        vertical-align: middle;\n",
       "    }\n",
       "\n",
       "    .dataframe tbody tr th {\n",
       "        vertical-align: top;\n",
       "    }\n",
       "\n",
       "    .dataframe thead th {\n",
       "        text-align: right;\n",
       "    }\n",
       "</style>\n",
       "<table border=\"1\" class=\"dataframe\">\n",
       "  <thead>\n",
       "    <tr style=\"text-align: right;\">\n",
       "      <th></th>\n",
       "      <th>Player Name</th>\n",
       "      <th>Type</th>\n",
       "      <th>Price Cr</th>\n",
       "      <th>Team</th>\n",
       "    </tr>\n",
       "  </thead>\n",
       "  <tbody>\n",
       "    <tr>\n",
       "      <th>0</th>\n",
       "      <td>Ben Stokes</td>\n",
       "      <td>All-Rounder</td>\n",
       "      <td>16.25</td>\n",
       "      <td>Chennai Super Kings</td>\n",
       "    </tr>\n",
       "    <tr>\n",
       "      <th>1</th>\n",
       "      <td>Ravindra Jadeja</td>\n",
       "      <td>All-Rounder</td>\n",
       "      <td>16.00</td>\n",
       "      <td>Chennai Super Kings</td>\n",
       "    </tr>\n",
       "    <tr>\n",
       "      <th>2</th>\n",
       "      <td>Deepak Chahar</td>\n",
       "      <td>Bowler</td>\n",
       "      <td>14.00</td>\n",
       "      <td>Chennai Super Kings</td>\n",
       "    </tr>\n",
       "    <tr>\n",
       "      <th>3</th>\n",
       "      <td>MS Dhoni</td>\n",
       "      <td>Wicket-Keeper</td>\n",
       "      <td>12.00</td>\n",
       "      <td>Chennai Super Kings</td>\n",
       "    </tr>\n",
       "    <tr>\n",
       "      <th>4</th>\n",
       "      <td>Moeen Ali</td>\n",
       "      <td>All-Rounder</td>\n",
       "      <td>8.00</td>\n",
       "      <td>Chennai Super Kings</td>\n",
       "    </tr>\n",
       "  </tbody>\n",
       "</table>\n",
       "</div>"
      ],
      "text/plain": [
       "        Player Name           Type  Price Cr                 Team\n",
       "0       Ben Stokes     All-Rounder     16.25  Chennai Super Kings\n",
       "1  Ravindra Jadeja     All-Rounder     16.00  Chennai Super Kings\n",
       "2    Deepak Chahar          Bowler     14.00  Chennai Super Kings\n",
       "3         MS Dhoni   Wicket-Keeper     12.00  Chennai Super Kings\n",
       "4        Moeen Ali     All-Rounder      8.00  Chennai Super Kings"
      ]
     },
     "execution_count": 3,
     "metadata": {},
     "output_type": "execute_result"
    }
   ],
   "source": [
    "ipl.head()"
   ]
  },
  {
   "cell_type": "code",
   "execution_count": 4,
   "id": "b9b34700",
   "metadata": {},
   "outputs": [
    {
     "data": {
      "text/html": [
       "<div>\n",
       "<style scoped>\n",
       "    .dataframe tbody tr th:only-of-type {\n",
       "        vertical-align: middle;\n",
       "    }\n",
       "\n",
       "    .dataframe tbody tr th {\n",
       "        vertical-align: top;\n",
       "    }\n",
       "\n",
       "    .dataframe thead th {\n",
       "        text-align: right;\n",
       "    }\n",
       "</style>\n",
       "<table border=\"1\" class=\"dataframe\">\n",
       "  <thead>\n",
       "    <tr style=\"text-align: right;\">\n",
       "      <th></th>\n",
       "      <th>Price Cr</th>\n",
       "    </tr>\n",
       "  </thead>\n",
       "  <tbody>\n",
       "    <tr>\n",
       "      <th>count</th>\n",
       "      <td>243.000000</td>\n",
       "    </tr>\n",
       "    <tr>\n",
       "      <th>mean</th>\n",
       "      <td>3.746914</td>\n",
       "    </tr>\n",
       "    <tr>\n",
       "      <th>std</th>\n",
       "      <td>4.584679</td>\n",
       "    </tr>\n",
       "    <tr>\n",
       "      <th>min</th>\n",
       "      <td>0.200000</td>\n",
       "    </tr>\n",
       "    <tr>\n",
       "      <th>25%</th>\n",
       "      <td>0.225000</td>\n",
       "    </tr>\n",
       "    <tr>\n",
       "      <th>50%</th>\n",
       "      <td>1.500000</td>\n",
       "    </tr>\n",
       "    <tr>\n",
       "      <th>75%</th>\n",
       "      <td>6.375000</td>\n",
       "    </tr>\n",
       "    <tr>\n",
       "      <th>max</th>\n",
       "      <td>18.500000</td>\n",
       "    </tr>\n",
       "  </tbody>\n",
       "</table>\n",
       "</div>"
      ],
      "text/plain": [
       "         Price Cr\n",
       "count  243.000000\n",
       "mean     3.746914\n",
       "std      4.584679\n",
       "min      0.200000\n",
       "25%      0.225000\n",
       "50%      1.500000\n",
       "75%      6.375000\n",
       "max     18.500000"
      ]
     },
     "execution_count": 4,
     "metadata": {},
     "output_type": "execute_result"
    }
   ],
   "source": [
    "ipl.describe()"
   ]
  },
  {
   "cell_type": "code",
   "execution_count": 5,
   "id": "b2e63eeb",
   "metadata": {
    "scrolled": false
   },
   "outputs": [
    {
     "data": {
      "text/html": [
       "<div>\n",
       "<style scoped>\n",
       "    .dataframe tbody tr th:only-of-type {\n",
       "        vertical-align: middle;\n",
       "    }\n",
       "\n",
       "    .dataframe tbody tr th {\n",
       "        vertical-align: top;\n",
       "    }\n",
       "\n",
       "    .dataframe thead th {\n",
       "        text-align: right;\n",
       "    }\n",
       "</style>\n",
       "<table border=\"1\" class=\"dataframe\">\n",
       "  <thead>\n",
       "    <tr style=\"text-align: right;\">\n",
       "      <th></th>\n",
       "      <th>Player Name</th>\n",
       "      <th>Type</th>\n",
       "      <th>Price Cr</th>\n",
       "      <th>Team</th>\n",
       "    </tr>\n",
       "  </thead>\n",
       "  <tbody>\n",
       "    <tr>\n",
       "      <th>146</th>\n",
       "      <td>Sam Curran</td>\n",
       "      <td>All-Rounder</td>\n",
       "      <td>18.5</td>\n",
       "      <td>Punjab Kings</td>\n",
       "    </tr>\n",
       "  </tbody>\n",
       "</table>\n",
       "</div>"
      ],
      "text/plain": [
       "     Player Name         Type  Price Cr          Team\n",
       "146  Sam Curran   All-Rounder      18.5  Punjab Kings"
      ]
     },
     "execution_count": 5,
     "metadata": {},
     "output_type": "execute_result"
    }
   ],
   "source": [
    "ipl.loc[(ipl[\"Price Cr\"]==18.5)]"
   ]
  },
  {
   "cell_type": "markdown",
   "id": "385ecd13",
   "metadata": {},
   "source": [
    "Sam Curran was sold at the highest bid of RS18.500 Cr"
   ]
  },
  {
   "cell_type": "code",
   "execution_count": 6,
   "id": "f79a9f5d",
   "metadata": {
    "scrolled": true
   },
   "outputs": [],
   "source": [
    "Lowest_price_of_players=ipl.loc[(ipl[\"Price Cr\"]==0.20)]"
   ]
  },
  {
   "cell_type": "code",
   "execution_count": 7,
   "id": "8dec32e5",
   "metadata": {},
   "outputs": [
    {
     "name": "stdout",
     "output_type": "stream",
     "text": [
      "              Player Name           Type  Price Cr                 Team\n",
      "17   Matheesha Pathirana          Bowler       0.2  Chennai Super Kings\n",
      "18      Mukesh Choudhary          Bowler       0.2  Chennai Super Kings\n",
      "19         Shaik Rasheed          Batter       0.2  Chennai Super Kings\n",
      "20       Simarjeet Singh          Bowler       0.2  Chennai Super Kings\n",
      "21   Subhranshu Senapati          Batter       0.2  Chennai Super Kings\n",
      "..                    ...            ...       ...                  ...\n",
      "217         Kuldip Yadav          Bowler       0.2     Rajasthan Royals\n",
      "239         Sanvir Singh     All-Rounder       0.2  Sunrisers Hyderabad\n",
      "240         Samarth Vyas     All-Rounder       0.2  Sunrisers Hyderabad\n",
      "241   Nitish Kumar Reddy   Wicket-Keeper       0.2  Sunrisers Hyderabad\n",
      "242     Anmolpreet Singh          Batter       0.2  Sunrisers Hyderabad\n",
      "\n",
      "[61 rows x 4 columns]\n"
     ]
    }
   ],
   "source": [
    "print(Lowest_price_of_players)"
   ]
  },
  {
   "cell_type": "markdown",
   "id": "a2b4ba6f",
   "metadata": {},
   "source": [
    "Above given are the players who are been sold at the lowest price of Rs 20 Lakh "
   ]
  },
  {
   "cell_type": "code",
   "execution_count": 8,
   "id": "095a7e22",
   "metadata": {
    "scrolled": true
   },
   "outputs": [
    {
     "name": "stdout",
     "output_type": "stream",
     "text": [
      "<class 'pandas.core.frame.DataFrame'>\n",
      "RangeIndex: 568 entries, 0 to 567\n",
      "Data columns (total 4 columns):\n",
      " #   Column       Non-Null Count  Dtype  \n",
      "---  ------       --------------  -----  \n",
      " 0   Player Name  568 non-null    object \n",
      " 1   Type         568 non-null    object \n",
      " 2   Price Cr     243 non-null    float64\n",
      " 3   Team         568 non-null    object \n",
      "dtypes: float64(1), object(3)\n",
      "memory usage: 17.9+ KB\n"
     ]
    }
   ],
   "source": [
    "ipl.info()"
   ]
  },
  {
   "cell_type": "code",
   "execution_count": 9,
   "id": "03d2a3c1",
   "metadata": {},
   "outputs": [
    {
     "data": {
      "text/html": [
       "<div>\n",
       "<style scoped>\n",
       "    .dataframe tbody tr th:only-of-type {\n",
       "        vertical-align: middle;\n",
       "    }\n",
       "\n",
       "    .dataframe tbody tr th {\n",
       "        vertical-align: top;\n",
       "    }\n",
       "\n",
       "    .dataframe thead th {\n",
       "        text-align: right;\n",
       "    }\n",
       "</style>\n",
       "<table border=\"1\" class=\"dataframe\">\n",
       "  <thead>\n",
       "    <tr style=\"text-align: right;\">\n",
       "      <th></th>\n",
       "      <th>Player Name</th>\n",
       "      <th>Type</th>\n",
       "      <th>Price Cr</th>\n",
       "      <th>Team</th>\n",
       "    </tr>\n",
       "  </thead>\n",
       "  <tbody>\n",
       "    <tr>\n",
       "      <th>563</th>\n",
       "      <td>Dhruv Patel</td>\n",
       "      <td>All-Rounder</td>\n",
       "      <td>NaN</td>\n",
       "      <td>Unsold</td>\n",
       "    </tr>\n",
       "    <tr>\n",
       "      <th>564</th>\n",
       "      <td>Jack Prestwidge</td>\n",
       "      <td>All-Rounder</td>\n",
       "      <td>NaN</td>\n",
       "      <td>Unsold</td>\n",
       "    </tr>\n",
       "    <tr>\n",
       "      <th>565</th>\n",
       "      <td>Aditya Sarvate</td>\n",
       "      <td>All-Rounder</td>\n",
       "      <td>NaN</td>\n",
       "      <td>Unsold</td>\n",
       "    </tr>\n",
       "    <tr>\n",
       "      <th>566</th>\n",
       "      <td>Sagar Solanki</td>\n",
       "      <td>All-Rounder</td>\n",
       "      <td>NaN</td>\n",
       "      <td>Unsold</td>\n",
       "    </tr>\n",
       "    <tr>\n",
       "      <th>567</th>\n",
       "      <td>Prenelan Subrayen</td>\n",
       "      <td>All-Rounder</td>\n",
       "      <td>NaN</td>\n",
       "      <td>Unsold</td>\n",
       "    </tr>\n",
       "  </tbody>\n",
       "</table>\n",
       "</div>"
      ],
      "text/plain": [
       "           Player Name         Type  Price Cr    Team\n",
       "563        Dhruv Patel  All-Rounder       NaN  Unsold\n",
       "564    Jack Prestwidge  All-Rounder       NaN  Unsold\n",
       "565     Aditya Sarvate  All-Rounder       NaN  Unsold\n",
       "566      Sagar Solanki  All-Rounder       NaN  Unsold\n",
       "567  Prenelan Subrayen  All-Rounder       NaN  Unsold"
      ]
     },
     "execution_count": 9,
     "metadata": {},
     "output_type": "execute_result"
    }
   ],
   "source": [
    "ipl.tail()"
   ]
  },
  {
   "cell_type": "code",
   "execution_count": 10,
   "id": "8dc7e25c",
   "metadata": {
    "scrolled": true
   },
   "outputs": [
    {
     "data": {
      "text/plain": [
       "Player Name     object\n",
       "Type            object\n",
       "Price Cr       float64\n",
       "Team            object\n",
       "dtype: object"
      ]
     },
     "execution_count": 10,
     "metadata": {},
     "output_type": "execute_result"
    }
   ],
   "source": [
    "ipl.dtypes"
   ]
  },
  {
   "cell_type": "code",
   "execution_count": 11,
   "id": "34f07e6b",
   "metadata": {},
   "outputs": [
    {
     "data": {
      "text/plain": [
       "Player Name      0\n",
       "Type             0\n",
       "Price Cr       325\n",
       "Team             0\n",
       "dtype: int64"
      ]
     },
     "execution_count": 11,
     "metadata": {},
     "output_type": "execute_result"
    }
   ],
   "source": [
    "ipl.isnull().sum()"
   ]
  },
  {
   "cell_type": "code",
   "execution_count": 12,
   "id": "e14e4b89",
   "metadata": {
    "scrolled": true
   },
   "outputs": [
    {
     "name": "stdout",
     "output_type": "stream",
     "text": [
      "<class 'pandas.core.frame.DataFrame'>\n",
      "Int64Index: 325 entries, 243 to 567\n",
      "Data columns (total 4 columns):\n",
      " #   Column       Non-Null Count  Dtype  \n",
      "---  ------       --------------  -----  \n",
      " 0   Player Name  325 non-null    object \n",
      " 1   Type         325 non-null    object \n",
      " 2   Price Cr     0 non-null      float64\n",
      " 3   Team         325 non-null    object \n",
      "dtypes: float64(1), object(3)\n",
      "memory usage: 12.7+ KB\n"
     ]
    }
   ],
   "source": [
    "ipl.loc[(ipl[\"Team\"]==\"Unsold\")].info()"
   ]
  },
  {
   "cell_type": "markdown",
   "id": "00530121",
   "metadata": {},
   "source": [
    "SO the numbers of players that are sold in the ipl auction 2022 is 243"
   ]
  },
  {
   "cell_type": "code",
   "execution_count": 13,
   "id": "e12558db",
   "metadata": {},
   "outputs": [
    {
     "data": {
      "text/plain": [
       "243"
      ]
     },
     "execution_count": 13,
     "metadata": {},
     "output_type": "execute_result"
    }
   ],
   "source": [
    "568-325 "
   ]
  },
  {
   "cell_type": "markdown",
   "id": "e935b8a0",
   "metadata": {},
   "source": [
    "568 is the total number of players\n",
    "\n",
    "Total number of players sold in the auction is 243\n",
    "\n",
    "325 players unsold"
   ]
  },
  {
   "cell_type": "code",
   "execution_count": 14,
   "id": "6934f310",
   "metadata": {},
   "outputs": [],
   "source": [
    "players_sold=ipl.dropna()"
   ]
  },
  {
   "cell_type": "code",
   "execution_count": 15,
   "id": "c9f0ff03",
   "metadata": {},
   "outputs": [
    {
     "name": "stdout",
     "output_type": "stream",
     "text": [
      "             Player Name           Type  Price Cr                 Team\n",
      "0            Ben Stokes     All-Rounder     16.25  Chennai Super Kings\n",
      "1       Ravindra Jadeja     All-Rounder     16.00  Chennai Super Kings\n",
      "2         Deepak Chahar          Bowler     14.00  Chennai Super Kings\n",
      "3              MS Dhoni   Wicket-Keeper     12.00  Chennai Super Kings\n",
      "4             Moeen Ali     All-Rounder      8.00  Chennai Super Kings\n",
      "..                   ...            ...       ...                  ...\n",
      "238       Upendra Yadav   Wicket-Keeper      0.25  Sunrisers Hyderabad\n",
      "239        Sanvir Singh     All-Rounder      0.20  Sunrisers Hyderabad\n",
      "240        Samarth Vyas     All-Rounder      0.20  Sunrisers Hyderabad\n",
      "241  Nitish Kumar Reddy   Wicket-Keeper      0.20  Sunrisers Hyderabad\n",
      "242    Anmolpreet Singh          Batter      0.20  Sunrisers Hyderabad\n",
      "\n",
      "[243 rows x 4 columns]\n"
     ]
    }
   ],
   "source": [
    "print(players_sold)"
   ]
  },
  {
   "cell_type": "code",
   "execution_count": 16,
   "id": "c9e07bb0",
   "metadata": {},
   "outputs": [
    {
     "data": {
      "text/plain": [
       "array(['Chennai Super Kings', 'Delhi Capitals', 'Gujarat Titans',\n",
       "       'Lucknow Super Giants', 'Mumbai Indians', 'Punjab Kings',\n",
       "       'Royal Challengers Bangalore', 'Rajasthan Royals',\n",
       "       'Sunrisers Hyderabad'], dtype=object)"
      ]
     },
     "execution_count": 16,
     "metadata": {},
     "output_type": "execute_result"
    }
   ],
   "source": [
    "players_sold[\"Team\"].unique()"
   ]
  },
  {
   "cell_type": "code",
   "execution_count": 40,
   "id": "b8287f41",
   "metadata": {},
   "outputs": [
    {
     "data": {
      "text/plain": [
       "array([[16.25],\n",
       "       [16.  ],\n",
       "       [14.  ],\n",
       "       [12.  ],\n",
       "       [ 8.  ],\n",
       "       [ 6.75],\n",
       "       [ 6.  ],\n",
       "       [ 4.  ],\n",
       "       [ 1.9 ],\n",
       "       [ 1.5 ],\n",
       "       [ 1.2 ],\n",
       "       [ 1.  ],\n",
       "       [ 1.  ],\n",
       "       [ 0.7 ],\n",
       "       [ 0.6 ],\n",
       "       [ 0.5 ],\n",
       "       [ 0.5 ],\n",
       "       [ 0.2 ],\n",
       "       [ 0.2 ],\n",
       "       [ 0.2 ],\n",
       "       [ 0.2 ],\n",
       "       [ 0.2 ],\n",
       "       [ 0.2 ],\n",
       "       [ 0.2 ],\n",
       "       [ 0.2 ]])"
      ]
     },
     "execution_count": 40,
     "metadata": {},
     "output_type": "execute_result"
    }
   ],
   "source": [
    "CSK=ipl.loc[(ipl[\"Team\"]==\"Chennai Super Kings\")]\n",
    "CSK_players_name_value=CSK.iloc[:,[2]]\n",
    "CSK_players_name_value_array=CSK_players_name_value.to_numpy()\n",
    "CSK_players_name_value_array\n"
   ]
  },
  {
   "cell_type": "code",
   "execution_count": 18,
   "id": "43ef3aba",
   "metadata": {},
   "outputs": [],
   "source": [
    "DC=ipl.loc[(ipl[\"Team\"]==\"Delhi Capitals\")]\n",
    "DC_players_name_value=DC.iloc[:,[2]]\n",
    "DC_players_name_value_array=DC_players_name_value.to_numpy()\n",
    "DC_players_name_value_array"
   ]
  },
  {
   "cell_type": "code",
   "execution_count": 19,
   "id": "a3e47412",
   "metadata": {},
   "outputs": [],
   "source": [
    "GT=ipl.loc[(ipl[\"Team\"]==\"Gujarat Titans\")]\n",
    "GT_players_name_value=CSK.iloc[:,[2]]\n",
    "CSK_players_name_value_array=CSK_players_name_value.to_numpy()\n",
    "CSK_players_name_value_array"
   ]
  },
  {
   "cell_type": "code",
   "execution_count": 20,
   "id": "f0dbbf50",
   "metadata": {},
   "outputs": [],
   "source": [
    "LSG=ipl.loc[(ipl[\"Team\"]==\"Lucknow Super Giants\")]"
   ]
  },
  {
   "cell_type": "code",
   "execution_count": 21,
   "id": "016207a6",
   "metadata": {},
   "outputs": [],
   "source": [
    "MI=ipl.loc[(ipl[\"Team\"]==\"Mumbai Indians\")]"
   ]
  },
  {
   "cell_type": "code",
   "execution_count": 22,
   "id": "06063035",
   "metadata": {},
   "outputs": [],
   "source": [
    "PK=ipl.loc[(ipl[\"Team\"]==\"Punjab Kings\")]"
   ]
  },
  {
   "cell_type": "code",
   "execution_count": 23,
   "id": "836d1ca2",
   "metadata": {},
   "outputs": [],
   "source": [
    "RCB=ipl.loc[(ipl[\"Team\"]==\"Royal Challengers Bangalore\")]"
   ]
  },
  {
   "cell_type": "code",
   "execution_count": 24,
   "id": "c5dba6c3",
   "metadata": {},
   "outputs": [],
   "source": [
    "RR=ipl.loc[(ipl[\"Team\"]==\"Rajasthan Royals\")]"
   ]
  },
  {
   "cell_type": "code",
   "execution_count": 25,
   "id": "ced2ed6a",
   "metadata": {},
   "outputs": [],
   "source": [
    "SH=ipl.loc[(ipl[\"Team\"]==\"Sunrisers Hyderabad\")]"
   ]
  },
  {
   "cell_type": "code",
   "execution_count": 26,
   "id": "65b69d34",
   "metadata": {},
   "outputs": [],
   "source": [
    "import matplotlib.pyplot as plt\n",
    "%matplotlib inline"
   ]
  },
  {
   "cell_type": "code",
   "execution_count": 27,
   "id": "2a78d906",
   "metadata": {},
   "outputs": [
    {
     "data": {
      "text/html": [
       "<div>\n",
       "<style scoped>\n",
       "    .dataframe tbody tr th:only-of-type {\n",
       "        vertical-align: middle;\n",
       "    }\n",
       "\n",
       "    .dataframe tbody tr th {\n",
       "        vertical-align: top;\n",
       "    }\n",
       "\n",
       "    .dataframe thead th {\n",
       "        text-align: right;\n",
       "    }\n",
       "</style>\n",
       "<table border=\"1\" class=\"dataframe\">\n",
       "  <thead>\n",
       "    <tr style=\"text-align: right;\">\n",
       "      <th></th>\n",
       "      <th>Player Name</th>\n",
       "      <th>Type</th>\n",
       "      <th>Price Cr</th>\n",
       "      <th>Team</th>\n",
       "    </tr>\n",
       "  </thead>\n",
       "  <tbody>\n",
       "    <tr>\n",
       "      <th>0</th>\n",
       "      <td>Ben Stokes</td>\n",
       "      <td>All-Rounder</td>\n",
       "      <td>16.25</td>\n",
       "      <td>Chennai Super Kings</td>\n",
       "    </tr>\n",
       "    <tr>\n",
       "      <th>1</th>\n",
       "      <td>Ravindra Jadeja</td>\n",
       "      <td>All-Rounder</td>\n",
       "      <td>16.00</td>\n",
       "      <td>Chennai Super Kings</td>\n",
       "    </tr>\n",
       "    <tr>\n",
       "      <th>2</th>\n",
       "      <td>Deepak Chahar</td>\n",
       "      <td>Bowler</td>\n",
       "      <td>14.00</td>\n",
       "      <td>Chennai Super Kings</td>\n",
       "    </tr>\n",
       "    <tr>\n",
       "      <th>3</th>\n",
       "      <td>MS Dhoni</td>\n",
       "      <td>Wicket-Keeper</td>\n",
       "      <td>12.00</td>\n",
       "      <td>Chennai Super Kings</td>\n",
       "    </tr>\n",
       "    <tr>\n",
       "      <th>4</th>\n",
       "      <td>Moeen Ali</td>\n",
       "      <td>All-Rounder</td>\n",
       "      <td>8.00</td>\n",
       "      <td>Chennai Super Kings</td>\n",
       "    </tr>\n",
       "  </tbody>\n",
       "</table>\n",
       "</div>"
      ],
      "text/plain": [
       "        Player Name           Type  Price Cr                 Team\n",
       "0       Ben Stokes     All-Rounder     16.25  Chennai Super Kings\n",
       "1  Ravindra Jadeja     All-Rounder     16.00  Chennai Super Kings\n",
       "2    Deepak Chahar          Bowler     14.00  Chennai Super Kings\n",
       "3         MS Dhoni   Wicket-Keeper     12.00  Chennai Super Kings\n",
       "4        Moeen Ali     All-Rounder      8.00  Chennai Super Kings"
      ]
     },
     "execution_count": 27,
     "metadata": {},
     "output_type": "execute_result"
    }
   ],
   "source": [
    "players_sold.head()"
   ]
  },
  {
   "cell_type": "code",
   "execution_count": 28,
   "id": "47afce23",
   "metadata": {},
   "outputs": [
    {
     "data": {
      "text/html": [
       "<div>\n",
       "<style scoped>\n",
       "    .dataframe tbody tr th:only-of-type {\n",
       "        vertical-align: middle;\n",
       "    }\n",
       "\n",
       "    .dataframe tbody tr th {\n",
       "        vertical-align: top;\n",
       "    }\n",
       "\n",
       "    .dataframe thead th {\n",
       "        text-align: right;\n",
       "    }\n",
       "</style>\n",
       "<table border=\"1\" class=\"dataframe\">\n",
       "  <thead>\n",
       "    <tr style=\"text-align: right;\">\n",
       "      <th></th>\n",
       "      <th>Player Name</th>\n",
       "      <th>Type</th>\n",
       "      <th>Price Cr</th>\n",
       "      <th>Team</th>\n",
       "    </tr>\n",
       "  </thead>\n",
       "  <tbody>\n",
       "    <tr>\n",
       "      <th>0</th>\n",
       "      <td>Ben Stokes</td>\n",
       "      <td>All-Rounder</td>\n",
       "      <td>16.25</td>\n",
       "      <td>Chennai Super Kings</td>\n",
       "    </tr>\n",
       "    <tr>\n",
       "      <th>1</th>\n",
       "      <td>Ravindra Jadeja</td>\n",
       "      <td>All-Rounder</td>\n",
       "      <td>16.00</td>\n",
       "      <td>Chennai Super Kings</td>\n",
       "    </tr>\n",
       "    <tr>\n",
       "      <th>2</th>\n",
       "      <td>Deepak Chahar</td>\n",
       "      <td>Bowler</td>\n",
       "      <td>14.00</td>\n",
       "      <td>Chennai Super Kings</td>\n",
       "    </tr>\n",
       "    <tr>\n",
       "      <th>3</th>\n",
       "      <td>MS Dhoni</td>\n",
       "      <td>Wicket-Keeper</td>\n",
       "      <td>12.00</td>\n",
       "      <td>Chennai Super Kings</td>\n",
       "    </tr>\n",
       "    <tr>\n",
       "      <th>4</th>\n",
       "      <td>Moeen Ali</td>\n",
       "      <td>All-Rounder</td>\n",
       "      <td>8.00</td>\n",
       "      <td>Chennai Super Kings</td>\n",
       "    </tr>\n",
       "  </tbody>\n",
       "</table>\n",
       "</div>"
      ],
      "text/plain": [
       "        Player Name           Type  Price Cr                 Team\n",
       "0       Ben Stokes     All-Rounder     16.25  Chennai Super Kings\n",
       "1  Ravindra Jadeja     All-Rounder     16.00  Chennai Super Kings\n",
       "2    Deepak Chahar          Bowler     14.00  Chennai Super Kings\n",
       "3         MS Dhoni   Wicket-Keeper     12.00  Chennai Super Kings\n",
       "4        Moeen Ali     All-Rounder      8.00  Chennai Super Kings"
      ]
     },
     "execution_count": 28,
     "metadata": {},
     "output_type": "execute_result"
    }
   ],
   "source": [
    "CSK.head()"
   ]
  },
  {
   "cell_type": "code",
   "execution_count": 29,
   "id": "84091692",
   "metadata": {},
   "outputs": [
    {
     "data": {
      "text/html": [
       "<div>\n",
       "<style scoped>\n",
       "    .dataframe tbody tr th:only-of-type {\n",
       "        vertical-align: middle;\n",
       "    }\n",
       "\n",
       "    .dataframe tbody tr th {\n",
       "        vertical-align: top;\n",
       "    }\n",
       "\n",
       "    .dataframe thead th {\n",
       "        text-align: right;\n",
       "    }\n",
       "</style>\n",
       "<table border=\"1\" class=\"dataframe\">\n",
       "  <thead>\n",
       "    <tr style=\"text-align: right;\">\n",
       "      <th></th>\n",
       "      <th>Player Name</th>\n",
       "    </tr>\n",
       "  </thead>\n",
       "  <tbody>\n",
       "    <tr>\n",
       "      <th>0</th>\n",
       "      <td>Ben Stokes</td>\n",
       "    </tr>\n",
       "    <tr>\n",
       "      <th>1</th>\n",
       "      <td>Ravindra Jadeja</td>\n",
       "    </tr>\n",
       "    <tr>\n",
       "      <th>2</th>\n",
       "      <td>Deepak Chahar</td>\n",
       "    </tr>\n",
       "    <tr>\n",
       "      <th>3</th>\n",
       "      <td>MS Dhoni</td>\n",
       "    </tr>\n",
       "    <tr>\n",
       "      <th>4</th>\n",
       "      <td>Moeen Ali</td>\n",
       "    </tr>\n",
       "    <tr>\n",
       "      <th>5</th>\n",
       "      <td>Ambati Rayudu</td>\n",
       "    </tr>\n",
       "    <tr>\n",
       "      <th>6</th>\n",
       "      <td>Ruturaj Gaikwad</td>\n",
       "    </tr>\n",
       "    <tr>\n",
       "      <th>7</th>\n",
       "      <td>Shivam Dube</td>\n",
       "    </tr>\n",
       "    <tr>\n",
       "      <th>8</th>\n",
       "      <td>Mitchell Santner</td>\n",
       "    </tr>\n",
       "    <tr>\n",
       "      <th>9</th>\n",
       "      <td>Rajvardhan Hangargekar</td>\n",
       "    </tr>\n",
       "    <tr>\n",
       "      <th>10</th>\n",
       "      <td>Prashant Solanki</td>\n",
       "    </tr>\n",
       "    <tr>\n",
       "      <th>11</th>\n",
       "      <td>Kyle Jamieson</td>\n",
       "    </tr>\n",
       "    <tr>\n",
       "      <th>12</th>\n",
       "      <td>Devon Conway</td>\n",
       "    </tr>\n",
       "    <tr>\n",
       "      <th>13</th>\n",
       "      <td>Maheesh Theekshana</td>\n",
       "    </tr>\n",
       "    <tr>\n",
       "      <th>14</th>\n",
       "      <td>Nishant Sindhu</td>\n",
       "    </tr>\n",
       "    <tr>\n",
       "      <th>15</th>\n",
       "      <td>Ajinkya Rahane</td>\n",
       "    </tr>\n",
       "    <tr>\n",
       "      <th>16</th>\n",
       "      <td>Dwaine Pretorius</td>\n",
       "    </tr>\n",
       "    <tr>\n",
       "      <th>17</th>\n",
       "      <td>Matheesha Pathirana</td>\n",
       "    </tr>\n",
       "    <tr>\n",
       "      <th>18</th>\n",
       "      <td>Mukesh Choudhary</td>\n",
       "    </tr>\n",
       "    <tr>\n",
       "      <th>19</th>\n",
       "      <td>Shaik Rasheed</td>\n",
       "    </tr>\n",
       "    <tr>\n",
       "      <th>20</th>\n",
       "      <td>Simarjeet Singh</td>\n",
       "    </tr>\n",
       "    <tr>\n",
       "      <th>21</th>\n",
       "      <td>Subhranshu Senapati</td>\n",
       "    </tr>\n",
       "    <tr>\n",
       "      <th>22</th>\n",
       "      <td>Bhagath Varma</td>\n",
       "    </tr>\n",
       "    <tr>\n",
       "      <th>23</th>\n",
       "      <td>Ajay Mandal</td>\n",
       "    </tr>\n",
       "    <tr>\n",
       "      <th>24</th>\n",
       "      <td>Tushar Deshpande</td>\n",
       "    </tr>\n",
       "  </tbody>\n",
       "</table>\n",
       "</div>"
      ],
      "text/plain": [
       "                Player Name\n",
       "0               Ben Stokes \n",
       "1          Ravindra Jadeja \n",
       "2            Deepak Chahar \n",
       "3                 MS Dhoni \n",
       "4                Moeen Ali \n",
       "5            Ambati Rayudu \n",
       "6          Ruturaj Gaikwad \n",
       "7              Shivam Dube \n",
       "8         Mitchell Santner \n",
       "9   Rajvardhan Hangargekar \n",
       "10        Prashant Solanki \n",
       "11           Kyle Jamieson \n",
       "12            Devon Conway \n",
       "13      Maheesh Theekshana \n",
       "14          Nishant Sindhu \n",
       "15          Ajinkya Rahane \n",
       "16        Dwaine Pretorius \n",
       "17     Matheesha Pathirana \n",
       "18        Mukesh Choudhary \n",
       "19           Shaik Rasheed \n",
       "20         Simarjeet Singh \n",
       "21     Subhranshu Senapati \n",
       "22           Bhagath Varma \n",
       "23             Ajay Mandal \n",
       "24        Tushar Deshpande "
      ]
     },
     "execution_count": 29,
     "metadata": {},
     "output_type": "execute_result"
    }
   ],
   "source": [
    "CSK_players_name=CSK.iloc[:,[0]]\n",
    "CSK_players_name_array=CSK_players_name.to_numpy()\n",
    "CSK_players_name"
   ]
  },
  {
   "cell_type": "code",
   "execution_count": 30,
   "id": "f328d5e2",
   "metadata": {},
   "outputs": [
    {
     "data": {
      "text/plain": [
       "array([[16.25],\n",
       "       [16.  ],\n",
       "       [14.  ],\n",
       "       [12.  ],\n",
       "       [ 8.  ],\n",
       "       [ 6.75],\n",
       "       [ 6.  ],\n",
       "       [ 4.  ],\n",
       "       [ 1.9 ],\n",
       "       [ 1.5 ],\n",
       "       [ 1.2 ],\n",
       "       [ 1.  ],\n",
       "       [ 1.  ],\n",
       "       [ 0.7 ],\n",
       "       [ 0.6 ],\n",
       "       [ 0.5 ],\n",
       "       [ 0.5 ],\n",
       "       [ 0.2 ],\n",
       "       [ 0.2 ],\n",
       "       [ 0.2 ],\n",
       "       [ 0.2 ],\n",
       "       [ 0.2 ],\n",
       "       [ 0.2 ],\n",
       "       [ 0.2 ],\n",
       "       [ 0.2 ]])"
      ]
     },
     "execution_count": 30,
     "metadata": {},
     "output_type": "execute_result"
    }
   ],
   "source": []
  },
  {
   "cell_type": "code",
   "execution_count": 35,
   "id": "9b88c619",
   "metadata": {},
   "outputs": [
    {
     "data": {
      "text/html": [
       "<div>\n",
       "<style scoped>\n",
       "    .dataframe tbody tr th:only-of-type {\n",
       "        vertical-align: middle;\n",
       "    }\n",
       "\n",
       "    .dataframe tbody tr th {\n",
       "        vertical-align: top;\n",
       "    }\n",
       "\n",
       "    .dataframe thead th {\n",
       "        text-align: right;\n",
       "    }\n",
       "</style>\n",
       "<table border=\"1\" class=\"dataframe\">\n",
       "  <thead>\n",
       "    <tr style=\"text-align: right;\">\n",
       "      <th></th>\n",
       "      <th>Player Name</th>\n",
       "      <th>Type</th>\n",
       "      <th>Price Cr</th>\n",
       "      <th>Team</th>\n",
       "    </tr>\n",
       "  </thead>\n",
       "  <tbody>\n",
       "    <tr>\n",
       "      <th>25</th>\n",
       "      <td>Rishabh Pant</td>\n",
       "      <td>Wicket-Keeper</td>\n",
       "      <td>16.0</td>\n",
       "      <td>Delhi Capitals</td>\n",
       "    </tr>\n",
       "    <tr>\n",
       "      <th>26</th>\n",
       "      <td>Axar Patel</td>\n",
       "      <td>All-Rounder</td>\n",
       "      <td>12.0</td>\n",
       "      <td>Delhi Capitals</td>\n",
       "    </tr>\n",
       "    <tr>\n",
       "      <th>27</th>\n",
       "      <td>Prithvi Shaw</td>\n",
       "      <td>Batter</td>\n",
       "      <td>8.0</td>\n",
       "      <td>Delhi Capitals</td>\n",
       "    </tr>\n",
       "    <tr>\n",
       "      <th>28</th>\n",
       "      <td>Mitchell Marsh</td>\n",
       "      <td>All-Rounder</td>\n",
       "      <td>6.5</td>\n",
       "      <td>Delhi Capitals</td>\n",
       "    </tr>\n",
       "    <tr>\n",
       "      <th>29</th>\n",
       "      <td>Anrich Nortje</td>\n",
       "      <td>Bowler</td>\n",
       "      <td>6.5</td>\n",
       "      <td>Delhi Capitals</td>\n",
       "    </tr>\n",
       "  </tbody>\n",
       "</table>\n",
       "</div>"
      ],
      "text/plain": [
       "        Player Name           Type  Price Cr            Team\n",
       "25    Rishabh Pant   Wicket-Keeper      16.0  Delhi Capitals\n",
       "26      Axar Patel     All-Rounder      12.0  Delhi Capitals\n",
       "27    Prithvi Shaw          Batter       8.0  Delhi Capitals\n",
       "28  Mitchell Marsh     All-Rounder       6.5  Delhi Capitals\n",
       "29   Anrich Nortje          Bowler       6.5  Delhi Capitals"
      ]
     },
     "execution_count": 35,
     "metadata": {},
     "output_type": "execute_result"
    }
   ],
   "source": [
    "DC.head()"
   ]
  },
  {
   "cell_type": "code",
   "execution_count": 36,
   "id": "4ae24967",
   "metadata": {},
   "outputs": [],
   "source": [
    "DC_players_price=DC.iloc[:,[2]]"
   ]
  },
  {
   "cell_type": "code",
   "execution_count": 37,
   "id": "79ac3b22",
   "metadata": {
    "collapsed": true
   },
   "outputs": [
    {
     "data": {
      "text/plain": [
       "array([[16.  ],\n",
       "       [12.  ],\n",
       "       [ 8.  ],\n",
       "       [ 6.5 ],\n",
       "       [ 6.5 ],\n",
       "       [ 6.25],\n",
       "       [ 5.5 ],\n",
       "       [ 5.25],\n",
       "       [ 4.6 ],\n",
       "       [ 4.2 ],\n",
       "       [ 2.8 ],\n",
       "       [ 2.4 ],\n",
       "       [ 2.  ],\n",
       "       [ 2.  ],\n",
       "       [ 2.  ],\n",
       "       [ 1.1 ],\n",
       "       [ 0.65],\n",
       "       [ 0.5 ],\n",
       "       [ 0.5 ],\n",
       "       [ 0.5 ],\n",
       "       [ 0.5 ],\n",
       "       [ 0.2 ],\n",
       "       [ 0.2 ],\n",
       "       [ 0.2 ],\n",
       "       [ 0.2 ]])"
      ]
     },
     "execution_count": 37,
     "metadata": {},
     "output_type": "execute_result"
    }
   ],
   "source": [
    "DC_players_price.to_numpy()"
   ]
  },
  {
   "cell_type": "code",
   "execution_count": 39,
   "id": "cad94061",
   "metadata": {},
   "outputs": [
    {
     "data": {
      "text/plain": [
       "array([[15.  ],\n",
       "       [15.  ],\n",
       "       [ 9.  ],\n",
       "       [ 8.  ],\n",
       "       [ 6.25],\n",
       "       [ 6.  ],\n",
       "       [ 4.4 ],\n",
       "       [ 3.2 ],\n",
       "       [ 3.  ],\n",
       "       [ 3.  ],\n",
       "       [ 2.6 ],\n",
       "       [ 2.4 ],\n",
       "       [ 2.4 ],\n",
       "       [ 2.  ],\n",
       "       [ 1.9 ],\n",
       "       [ 1.7 ],\n",
       "       [ 1.4 ],\n",
       "       [ 1.2 ],\n",
       "       [ 0.5 ],\n",
       "       [ 0.5 ],\n",
       "       [ 0.3 ],\n",
       "       [ 0.2 ],\n",
       "       [ 0.2 ],\n",
       "       [ 0.2 ],\n",
       "       [ 0.2 ],\n",
       "       [16.  ],\n",
       "       [12.25],\n",
       "       [12.  ],\n",
       "       [10.75],\n",
       "       [10.  ],\n",
       "       [ 8.  ],\n",
       "       [ 8.  ],\n",
       "       [ 6.  ],\n",
       "       [ 2.  ],\n",
       "       [ 1.5 ],\n",
       "       [ 1.5 ],\n",
       "       [ 1.  ],\n",
       "       [ 0.9 ],\n",
       "       [ 0.6 ],\n",
       "       [ 0.55],\n",
       "       [ 0.5 ],\n",
       "       [ 0.5 ],\n",
       "       [ 0.5 ],\n",
       "       [ 0.2 ],\n",
       "       [ 0.2 ],\n",
       "       [ 0.2 ],\n",
       "       [ 0.2 ]])"
      ]
     },
     "execution_count": 39,
     "metadata": {},
     "output_type": "execute_result"
    }
   ],
   "source": [
    "GT_players_name_value=GT.iloc[:,[2]]\n",
    "GT_players_name_value_array=GT_players_name_value.to_numpy()\n",
    "GT_players_name_value_array"
   ]
  },
  {
   "cell_type": "code",
   "execution_count": null,
   "id": "df25ce7a",
   "metadata": {},
   "outputs": [],
   "source": [
    "GT"
   ]
  }
 ],
 "metadata": {
  "kernelspec": {
   "display_name": "Python 3 (ipykernel)",
   "language": "python",
   "name": "python3"
  },
  "language_info": {
   "codemirror_mode": {
    "name": "ipython",
    "version": 3
   },
   "file_extension": ".py",
   "mimetype": "text/x-python",
   "name": "python",
   "nbconvert_exporter": "python",
   "pygments_lexer": "ipython3",
   "version": "3.9.13"
  }
 },
 "nbformat": 4,
 "nbformat_minor": 5
}
